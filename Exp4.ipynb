{
 "cells": [
  {
   "cell_type": "code",
   "execution_count": null,
   "id": "b73d9fc8",
   "metadata": {},
   "outputs": [
    {
     "ename": "SyntaxError",
     "evalue": "invalid syntax (4070120736.py, line 13)",
     "output_type": "error",
     "traceback": [
      "\u001b[1;36m  Cell \u001b[1;32mIn[2], line 13\u001b[1;36m\u001b[0m\n\u001b[1;33m    for i in range len(target):\u001b[0m\n\u001b[1;37m                   ^\u001b[0m\n\u001b[1;31mSyntaxError\u001b[0m\u001b[1;31m:\u001b[0m invalid syntax\n"
     ]
    }
   ],
   "source": [
    "import pandas as pd \n",
    "\n",
    "file_path = (r\"C:\\Users\\Anshul Halkarni\\Desktop\\playing_tennis\\PlayTennis.csv\")\n",
    "def find_s_algorithm():\n",
    "    df = pd.read_csv(file_path)\n",
    "    \n",
    "\n",
    "attributes = df.iloc[:, :-1]\n",
    "target = df.iloc[:, -1]\n",
    "\n",
    "hypothises = ['@']*len(attributes.columns)\n",
    "\n",
    "for i in range (len(target)):\n",
    "    if target[i]==Yes\n",
    "    hypothises = attributes.iloc[i].tolist()\n",
    "    break\n",
    "\n",
    "for i in range  (len(target)):\n",
    "    if target[i]==No\n",
    "    for j in range len(hypothises):\n",
    "        if hypothises[j] != attributes.iloc[i][j]:\n",
    "            hypothises[j]='?'\n",
    "\n",
    "return hypothises\n",
    "\n",
    "\n",
    "final_hypothises = find_s_algorithm(file_path)\n",
    "print(\"Final Hypothises:\",final_hypothises)"
   ]
  }
 ],
 "metadata": {
  "kernelspec": {
   "display_name": "Python 3",
   "language": "python",
   "name": "python3"
  },
  "language_info": {
   "codemirror_mode": {
    "name": "ipython",
    "version": 3
   },
   "file_extension": ".py",
   "mimetype": "text/x-python",
   "name": "python",
   "nbconvert_exporter": "python",
   "pygments_lexer": "ipython3",
   "version": "3.11.9"
  }
 },
 "nbformat": 4,
 "nbformat_minor": 5
}
