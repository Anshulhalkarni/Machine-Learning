{
 "cells": [
  {
   "cell_type": "code",
   "execution_count": null,
   "id": "b73d9fc8",
   "metadata": {},
   "outputs": [
    {
     "name": "stdout",
     "output_type": "stream",
     "text": [
      "Successfully read the file: C:\\Users\\Anshul Halkarni\\Desktop\\playing_tennis\\PlayTennis.csv\n"
     ]
    },
    {
     "ename": "",
     "evalue": "",
     "output_type": "error",
     "traceback": [
      "\u001b[1;31mThe Kernel crashed while executing code in the current cell or a previous cell. \n",
      "\u001b[1;31mPlease review the code in the cell(s) to identify a possible cause of the failure. \n",
      "\u001b[1;31mClick <a href='https://aka.ms/vscodeJupyterKernelCrash'>here</a> for more info. \n",
      "\u001b[1;31mView Jupyter <a href='command:jupyter.viewOutput'>log</a> for further details."
     ]
    }
   ],
   "source": [
    "import pandas as pd \n",
    "\n",
    "file_path = (r\"C:\\Users\\Anshul Halkarni\\Desktop\\playing_tennis\\PlayTennis.csv\")\n",
    "try:\n",
    "    df = pd.read_csv(file_path)\n",
    "    print(f'Successfully read the file: {file_path}')\n",
    "except FileNotFoundError :\n",
    "        print(f'File not found: {file_path}')\n",
    "exit()        "
   ]
  }
 ],
 "metadata": {
  "kernelspec": {
   "display_name": "Python 3",
   "language": "python",
   "name": "python3"
  },
  "language_info": {
   "codemirror_mode": {
    "name": "ipython",
    "version": 3
   },
   "file_extension": ".py",
   "mimetype": "text/x-python",
   "name": "python",
   "nbconvert_exporter": "python",
   "pygments_lexer": "ipython3",
   "version": "3.11.9"
  }
 },
 "nbformat": 4,
 "nbformat_minor": 5
}
