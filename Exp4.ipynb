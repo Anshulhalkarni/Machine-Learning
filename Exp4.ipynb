{
 "cells": [
  {
   "cell_type": "code",
   "execution_count": 38,
   "id": "b73d9fc8",
   "metadata": {},
   "outputs": [
    {
     "name": "stdout",
     "output_type": "stream",
     "text": [
      "    Outlook Temperature Humidity    Wind Play Tennis\n",
      "0     Sunny         Hot     High    Weak          No\n",
      "1     Sunny         Hot     High  Strong          No\n",
      "2  Overcast         Hot     High    Weak         Yes\n",
      "3      Rain        Mild     High    Weak         Yes\n",
      "4      Rain        Cool   Normal    Weak         Yes\n",
      "--------------------\n",
      "Final Hypothesis: ['?', '?', '?', '?']\n"
     ]
    },
    {
     "name": "stderr",
     "output_type": "stream",
     "text": [
      "C:\\Users\\Anshul Halkarni\\AppData\\Local\\Temp\\ipykernel_14392\\2824014971.py:32: FutureWarning: Series.__getitem__ treating keys as positions is deprecated. In a future version, integer keys will always be treated as labels (consistent with DataFrame behavior). To access a value by position, use `ser.iloc[pos]`\n",
      "  if hypothises[j] != attributes.iloc[i][j]:\n"
     ]
    }
   ],
   "source": [
    "import pandas as pd\n",
    "\n",
    "\n",
    "file_path = r\"C:\\Users\\Anshul Halkarni\\Desktop\\playing_tennis\\PlayTennis.csv\"\n",
    "\n",
    "\n",
    "def find_s_algorithm(file_path):\n",
    "    \n",
    "    data = pd.read_csv(file_path)\n",
    "    print(data.head())\n",
    "    print(\"--------------------\") \n",
    "\n",
    "    attributes = data.iloc[:, :-1]\n",
    "    target = data.iloc[:, -1]\n",
    "\n",
    "    \n",
    "    hypothises = ['@'] * len(attributes.columns)\n",
    "\n",
    "   \n",
    "    for i in range(len(target)):\n",
    "        if target[i] == 'Yes':\n",
    "            \n",
    "            hypothises = attributes.iloc[i].tolist()\n",
    "            break \n",
    "\n",
    "    \n",
    "    for i in range(len(target)):\n",
    "        if target[i] == 'Yes':\n",
    "            \n",
    "            for j in range(len(hypothises)):\n",
    "                \n",
    "                if hypothises[j] != attributes.iloc[i][j]:\n",
    "                    \n",
    "                    hypothises[j] = '?'\n",
    "    \n",
    "    \n",
    "    return hypothises\n",
    "\n",
    "\n",
    "final_hypothesis = find_s_algorithm(file_path)\n",
    "\n",
    "\n",
    "print(\"Final Hypothesis:\", final_hypothesis)"
   ]
  }
 ],
 "metadata": {
  "kernelspec": {
   "display_name": "Python 3",
   "language": "python",
   "name": "python3"
  },
  "language_info": {
   "codemirror_mode": {
    "name": "ipython",
    "version": 3
   },
   "file_extension": ".py",
   "mimetype": "text/x-python",
   "name": "python",
   "nbconvert_exporter": "python",
   "pygments_lexer": "ipython3",
   "version": "3.11.9"
  }
 },
 "nbformat": 4,
 "nbformat_minor": 5
}
