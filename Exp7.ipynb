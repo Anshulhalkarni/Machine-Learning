{
 "cells": [
  {
   "cell_type": "code",
   "execution_count": null,
   "id": "f65c0f13",
   "metadata": {},
   "outputs": [],
   "source": [
    "import numpy as np\n",
    "import matplotlib.pyplot as plt\n",
    "import pandas as pd\n",
    "from sklearn.linear_model import LinearRegression\n",
    "from sklearn.preprocessing import PolynomialFeatures\n",
    "from sklearn.model_selection import train_test_split\n",
    "from sklearn.metrics import mean_squared_error\n",
    "\n",
    "df = pd.read_csv(\"/content/drive/MyDrive/MachineLearningLab_2025/BostonHousing.csv\")\n",
    "\n",
    "df.head()\n",
    "\n",
    "df.columns\n",
    "\n",
    "df.info()\n",
    "\n",
    "df = df.dropna()\n",
    "\n",
    "# Select RM (number of rooms) as the independent variable\n",
    "X_boston = df[['rm']]\n",
    "y_boston = df['medv']\n",
    "\n",
    "# Split into training and test sets\n",
    "X_train_boston, X_test_boston, y_train_boston, y_test_boston = train_test_split(X_boston, y_boston, test_size=0.2, random_state=42)\n",
    "\n",
    "# Apply Linear Regression\n",
    "lin_reg = LinearRegression()\n",
    "lin_reg.fit(X_train_boston, y_train_boston)\n",
    "y_pred_boston = lin_reg.predict(X_test_boston)\n",
    "\n",
    "# Plot Linear Regression results\n",
    "plt.figure(figsize=(10, 5))\n",
    "plt.scatter(X_test_boston, y_test_boston, color='blue', label='Actual')\n",
    "plt.plot(X_test_boston, y_pred_boston, color='red', linewidth=2, label='Predicted')\n",
    "plt.xlabel('Number of Rooms')\n",
    "plt.ylabel('House Price (MEDV)')\n",
    "plt.title('Linear Regression on Boston Housing Dataset')\n",
    "plt.legend()\n",
    "plt.show()\n",
    "\n",
    "\n",
    "\n",
    "\n",
    "\n",
    "\n",
    "\n",
    "\n",
    "\n",
    "\n",
    "\n"
   ]
  }
 ],
 "metadata": {
  "kernelspec": {
   "display_name": "Python 3",
   "language": "python",
   "name": "python3"
  },
  "language_info": {
   "name": "python",
   "version": "3.11.9"
  }
 },
 "nbformat": 4,
 "nbformat_minor": 5
}
