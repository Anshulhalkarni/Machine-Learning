{
 "cells": [
  {
   "cell_type": "code",
   "execution_count": null,
   "id": "678d84ae",
   "metadata": {},
   "outputs": [],
   "source": [
    "import torch\n",
    "import torch.nn as nn\n",
    "import torch.optim as optim\n",
    "from sklearn.datasets import load_digits\n",
    "from sklearn.model_selection import train_test_split\n",
    "from torch.utils.data import DataLoader, TensorDataset\n",
    "import matplotlib.pyplot as plt\n",
    "\n",
    "\n",
    "digits = load_digits()\n",
    "X = digits.images\n",
    "y = digits.target\n",
    "\n",
    "X = X / 16.0\n",
    "X = torch.tensor(X).unsqueeze(1).float()\n",
    "y = torch.tensor(y).long()"
   ]
  }
 ],
 "metadata": {
  "kernelspec": {
   "display_name": "Python 3",
   "language": "python",
   "name": "python3"
  },
  "language_info": {
   "name": "python",
   "version": "3.11.9"
  }
 },
 "nbformat": 4,
 "nbformat_minor": 5
}
