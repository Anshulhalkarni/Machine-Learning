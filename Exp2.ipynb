{
 "cells": [
  {
   "cell_type": "code",
   "execution_count": null,
   "id": "bd7009c2",
   "metadata": {},
   "outputs": [],
   "source": [
    "import numpy as np \n",
    "import pandas as pd \n",
    "import matplotlib.pyplot as plt\n",
    "import seaborn as sns\n",
    "from sklearn.datasets import fetch_california_housing \n",
    "\n",
    "california=fetch_california_housing()\n",
    "df=pd.DataFrame(california.data,columns=california.feature_names)\n",
    "\n",
    "df.head()\n",
    "Correlation_matrix=df.corr()\n",
    "sns.heatmap(Correlation_matrix,annot=True,cmap='coolwarm',linewidths=0.5)\n",
    "plt.title('Correlation Matrix of California Housing Dataset',fontsize=16)\n",
    "plt.show()\n",
    "\n",
    "sns.pairplot(df,diag_kind='kde',corner=True)\n",
    "plt.show()\n",
    "\n"
   ]
  }
 ],
 "metadata": {
  "kernelspec": {
   "display_name": "Python 3",
   "language": "python",
   "name": "python3"
  },
  "language_info": {
   "name": "python",
   "version": "3.11.9"
  }
 },
 "nbformat": 4,
 "nbformat_minor": 5
}
