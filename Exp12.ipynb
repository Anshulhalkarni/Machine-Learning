{
 "cells": [
  {
   "cell_type": "code",
   "execution_count": null,
   "id": "d12ab065",
   "metadata": {},
   "outputs": [],
   "source": [
    "import tensorflow as tf\n",
    "from tensorflow.keras import layers, models\n",
    "import matplotlib.pyplot as plt\n",
    "\n",
    "(X_train, y_train), (X_test, y_test) = tf.keras.datasets.mnist.load_data()\n",
    "X_train = X_train.reshape(-1, 28, 28, 1).astype(\"float32\") / 255.0\n",
    "X_test = X_test.reshape(-1, 28, 28, 1).astype(\"float32\") / 255.0\n",
    "\n",
    "model = models.Sequential([\n",
    "    layers.Conv2D(32, kernel_size=3, activation='relu', input_shape=(28, 28, 1)),\n",
    "    layers.MaxPooling2D(pool_size=2),\n",
    "    layers.Conv2D(64, kernel_size=3, activation='relu'),\n",
    "    layers.MaxPooling2D(pool_size=2),\n",
    "    layers.Flatten(),\n",
    "    layers.Dense(128, activation='relu'),\n",
    "    layers.Dense(10, activation='softmax')\n",
    "])\n",
    "\n",
    "model.compile(optimizer='adam', loss='sparse_categorical_crossentropy', metrics=['accuracy'])\n",
    "model.fit(X_train, y_train, epochs=5, batch_size=64, validation_split=0.1)\n",
    "\n",
    "test_loss, test_acc = model.evaluate(X_test, y_test)\n",
    "print(\"Test Accuracy:\", test_acc)\n",
    "\n",
    "preds = model.predict(X_test[:10])\n",
    "fig, axes = plt.subplots(1, 10, figsize=(15, 4))\n",
    "for i, ax in enumerate(axes):\n",
    "    ax.imshow(X_test[i].reshape(28, 28), cmap='gray')\n",
    "    ax.set_title(f\"Pred: {preds[i].argmax()}\")\n",
    "    ax.axis('off')\n",
    "plt.tight_layout()\n",
    "plt.show()\n"
   ]
  }
 ],
 "metadata": {
  "kernelspec": {
   "display_name": "Python 3",
   "language": "python",
   "name": "python3"
  },
  "language_info": {
   "name": "python",
   "version": "3.11.9"
  }
 },
 "nbformat": 4,
 "nbformat_minor": 5
}
