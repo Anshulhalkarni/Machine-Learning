{
 "cells": [
  {
   "cell_type": "code",
   "execution_count": null,
   "id": "0e555bc6",
   "metadata": {},
   "outputs": [],
   "source": [
    "import numpy as np\n",
    "import matplotlib.pyplot as plt\n",
    "import pandas as pd\n",
    "from sklearn.preprocessing import StandardScaler\n",
    "\n",
    "def locally_weighted_regression(x_train, y_train, x_test, tau):\n",
    "    \"\"\"\n",
    "    Locally Weighted Regression (LWR) implementation.\n",
    "    x_train: Training feature values.\n",
    "    y_train: Training target values.\n",
    "    x_test: Query point(s) for prediction.\n",
    "    tau: Bandwidth parameter for weighting.\n",
    "    \"\"\"\n",
    "    m = x_train.shape[0]\n",
    "    x_train_aug = np.c_[np.ones(m), x_train]  # Add bias term\n",
    "    x_test_aug = np.c_[np.ones(len(x_test)), x_test]  # Add bias term\n",
    "        y_pred = np.zeros(len(x_test))\n",
    "    \n",
    "    for i in range(len(x_test)):\n",
    "        x_i = x_test_aug[i]\n",
    "        \n",
    "        # Compute weights using Gaussian kernel\n",
    "        W = np.exp(-np.square(x_train - x_test[i]) / (2 * tau ** 2))\n",
    "        W = np.diag(W.flatten())\n",
    "        \n",
    "        # Compute theta: (X'WX)^(-1) X'W y\n",
    "        theta = np.linalg.pinv(x_train_aug.T @ W @ x_train_aug) @ x_train_aug.T @ W @ y_train\n",
    "        y_pred[i] = x_i @ theta\n",
    "    \n",
    "    return y_pred\n",
    "\n",
    "\n",
    "    \n"
   ]
  }
 ],
 "metadata": {
  "language_info": {
   "name": "python"
  }
 },
 "nbformat": 4,
 "nbformat_minor": 5
}
