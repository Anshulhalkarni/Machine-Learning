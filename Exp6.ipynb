{
 "cells": [
  {
   "cell_type": "code",
   "execution_count": null,
   "id": "0e555bc6",
   "metadata": {},
   "outputs": [],
   "source": [
    "import numpy as np\n",
    "import matplotlib.pyplot as plt\n",
    "import pandas as pd\n",
    "from sklearn.preprocessing import StandardScaler\n",
    "\n",
    "def locally_weighted_regression(x_train, y_train, x_test, tau):\n",
    "    \"\"\"\n",
    "    Locally Weighted Regression (LWR) implementation.\n",
    "    x_train: Training feature values.\n",
    "    y_train: Training target values.\n",
    "    x_test: Query point(s) for prediction.\n",
    "    tau: Bandwidth parameter for weighting.\n",
    "    \"\"\"\n",
    "    m = x_train.shape[0]\n",
    "    x_train_aug = np.c_[np.ones(m), x_train]  # Add bias term\n",
    "    x_test_aug = np.c_[np.ones(len(x_test)), x_test]  # Add bias term\n",
    "    \n"
   ]
  }
 ],
 "metadata": {
  "language_info": {
   "name": "python"
  }
 },
 "nbformat": 4,
 "nbformat_minor": 5
}
